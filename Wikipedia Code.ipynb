{
 "cells": [
  {
   "cell_type": "markdown",
   "metadata": {},
   "source": [
    "<h1>Código de referencia para cálculo de pesos encontrados en Wikipedia<h1>"
   ]
  },
  {
   "cell_type": "markdown",
   "metadata": {},
   "source": [
    "<h3> Programa general <h3>"
   ]
  },
  {
   "cell_type": "markdown",
   "metadata": {},
   "source": [
    "Inicialización de variables"
   ]
  },
  {
   "cell_type": "code",
   "execution_count": 1,
   "metadata": {
    "collapsed": true
   },
   "outputs": [],
   "source": [
    "umbral = 0.5\n",
    "tasa_de_aprendizaje = 0.1\n",
    "pesos = [0, 0, 0]"
   ]
  },
  {
   "cell_type": "markdown",
   "metadata": {},
   "source": [
    "Definimos la función producto punto"
   ]
  },
  {
   "cell_type": "code",
   "execution_count": 2,
   "metadata": {
    "collapsed": true
   },
   "outputs": [],
   "source": [
    "def producto_punto(valores, pesos):\n",
    "    return sum(valor * peso for valor, peso in zip(valores, pesos))"
   ]
  },
  {
   "cell_type": "markdown",
   "metadata": {},
   "source": [
    "Definimos la función para encontrar los pesos adecutados respecto a la tabla de entrenamiento dada"
   ]
  },
  {
   "cell_type": "code",
   "execution_count": 3,
   "metadata": {},
   "outputs": [],
   "source": [
    "def FindWeights(table_training):\n",
    "    while True:\n",
    "        print('-' * 60)\n",
    "        contador_de_errores = 0\n",
    "        for vector_de_entrada, salida_deseada in table_training:\n",
    "            print(pesos)\n",
    "            resultado = producto_punto(vector_de_entrada, pesos) > umbral\n",
    "            error = salida_deseada - resultado\n",
    "            if error != 0:\n",
    "                contador_de_errores += 1\n",
    "                for indice, valor in enumerate(vector_de_entrada):\n",
    "                    pesos[indice] += tasa_de_aprendizaje * error * valor\n",
    "        if contador_de_errores == 0:\n",
    "            break"
   ]
  },
  {
   "cell_type": "markdown",
   "metadata": {},
   "source": [
    "<h3>Función Lógica AND<h3>"
   ]
  },
  {
   "cell_type": "markdown",
   "metadata": {},
   "source": [
    "Trabajaremos con la tabla de entrenamiento de la función lógica AND"
   ]
  },
  {
   "cell_type": "code",
   "execution_count": 4,
   "metadata": {
    "collapsed": true
   },
   "outputs": [],
   "source": [
    "conjunto_de_entrenamiento_AND = [((0, 0), 0), ((0, 1), 0), ((1, 0), 0), ((1, 1), 1)]"
   ]
  },
  {
   "cell_type": "markdown",
   "metadata": {},
   "source": [
    "Ejecutamos la función para encontrar los valores de la tabla AND"
   ]
  },
  {
   "cell_type": "code",
   "execution_count": 5,
   "metadata": {},
   "outputs": [
    {
     "name": "stdout",
     "output_type": "stream",
     "text": [
      "------------------------------------------------------------\n",
      "[0, 0, 0]\n",
      "[0, 0, 0]\n",
      "[0, 0, 0]\n",
      "[0, 0, 0]\n",
      "------------------------------------------------------------\n",
      "[0.1, 0.1, 0]\n",
      "[0.1, 0.1, 0]\n",
      "[0.1, 0.1, 0]\n",
      "[0.1, 0.1, 0]\n",
      "------------------------------------------------------------\n",
      "[0.2, 0.2, 0]\n",
      "[0.2, 0.2, 0]\n",
      "[0.2, 0.2, 0]\n",
      "[0.2, 0.2, 0]\n",
      "------------------------------------------------------------\n",
      "[0.30000000000000004, 0.30000000000000004, 0]\n",
      "[0.30000000000000004, 0.30000000000000004, 0]\n",
      "[0.30000000000000004, 0.30000000000000004, 0]\n",
      "[0.30000000000000004, 0.30000000000000004, 0]\n"
     ]
    }
   ],
   "source": [
    "FindWeights(conjunto_de_entrenamiento_AND)"
   ]
  },
  {
   "cell_type": "markdown",
   "metadata": {},
   "source": [
    "Vemos que los pesos concuerdan con los encontrados en clase"
   ]
  },
  {
   "cell_type": "markdown",
   "metadata": {},
   "source": [
    "<h3>Función Lógica OR<h3>"
   ]
  },
  {
   "cell_type": "markdown",
   "metadata": {},
   "source": [
    "Trabajaremos con la tabla de entrenamiento de la función lógica AND"
   ]
  },
  {
   "cell_type": "code",
   "execution_count": 6,
   "metadata": {
    "collapsed": true
   },
   "outputs": [],
   "source": [
    "conjunto_de_entrenamiento_OR = [((0, 0), 0), ((0, 1), 1), ((1, 0), 1), ((1, 1), 1)]"
   ]
  },
  {
   "cell_type": "markdown",
   "metadata": {},
   "source": [
    "Ejecutamos la función para encontrar los valores de la tabla OR"
   ]
  },
  {
   "cell_type": "code",
   "execution_count": 7,
   "metadata": {},
   "outputs": [
    {
     "name": "stdout",
     "output_type": "stream",
     "text": [
      "------------------------------------------------------------\n",
      "[0.30000000000000004, 0.30000000000000004, 0]\n",
      "[0.30000000000000004, 0.30000000000000004, 0]\n",
      "[0.30000000000000004, 0.4, 0]\n",
      "[0.4, 0.4, 0]\n",
      "------------------------------------------------------------\n",
      "[0.4, 0.4, 0]\n",
      "[0.4, 0.4, 0]\n",
      "[0.4, 0.5, 0]\n",
      "[0.5, 0.5, 0]\n",
      "------------------------------------------------------------\n",
      "[0.5, 0.5, 0]\n",
      "[0.5, 0.5, 0]\n",
      "[0.5, 0.6, 0]\n",
      "[0.6, 0.6, 0]\n",
      "------------------------------------------------------------\n",
      "[0.6, 0.6, 0]\n",
      "[0.6, 0.6, 0]\n",
      "[0.6, 0.6, 0]\n",
      "[0.6, 0.6, 0]\n"
     ]
    }
   ],
   "source": [
    "FindWeights(conjunto_de_entrenamiento_OR)"
   ]
  },
  {
   "cell_type": "markdown",
   "metadata": {},
   "source": [
    "Vemos que los pesos concuerdan con los encontrados en clase"
   ]
  }
 ],
 "metadata": {
  "kernelspec": {
   "display_name": "Python 2",
   "language": "python",
   "name": "python2"
  },
  "language_info": {
   "codemirror_mode": {
    "name": "ipython",
    "version": 2
   },
   "file_extension": ".py",
   "mimetype": "text/x-python",
   "name": "python",
   "nbconvert_exporter": "python",
   "pygments_lexer": "ipython2",
   "version": "2.7.10"
  }
 },
 "nbformat": 4,
 "nbformat_minor": 2
}
